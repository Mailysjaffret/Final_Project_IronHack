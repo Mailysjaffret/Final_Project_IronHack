{
 "cells": [
  {
   "cell_type": "markdown",
   "id": "06531b4c-c32e-4446-a91c-3474618fad78",
   "metadata": {},
   "source": [
    "# FINAL PROJECT: tourism destination in Europe"
   ]
  },
  {
   "cell_type": "code",
   "execution_count": 6,
   "id": "68bde7a8-54ae-4910-8574-93743ef358b5",
   "metadata": {},
   "outputs": [],
   "source": [
    "import pandas as pd\n",
    "import matplotlib.pyplot as plt\n",
    "import datetime as dt\n",
    "import requests"
   ]
  },
  {
   "cell_type": "markdown",
   "id": "e17ced9e-7be8-4e25-8e7f-aa9400dd698c",
   "metadata": {},
   "source": [
    "### Creation df with API"
   ]
  },
  {
   "cell_type": "code",
   "execution_count": 172,
   "id": "afd74499-9db4-4912-9bbd-a7f196f72d87",
   "metadata": {},
   "outputs": [
    {
     "name": "stdout",
     "output_type": "stream",
     "text": [
      "dict_keys(['version', 'class', 'label', 'source', 'updated', 'value', 'status', 'id', 'size', 'dimension', 'extension'])\n"
     ]
    },
    {
     "data": {
      "text/html": [
       "<div>\n",
       "<style scoped>\n",
       "    .dataframe tbody tr th:only-of-type {\n",
       "        vertical-align: middle;\n",
       "    }\n",
       "\n",
       "    .dataframe tbody tr th {\n",
       "        vertical-align: top;\n",
       "    }\n",
       "\n",
       "    .dataframe thead th {\n",
       "        text-align: right;\n",
       "    }\n",
       "</style>\n",
       "<table border=\"1\" class=\"dataframe\">\n",
       "  <thead>\n",
       "    <tr style=\"text-align: right;\">\n",
       "      <th></th>\n",
       "      <th>0</th>\n",
       "    </tr>\n",
       "  </thead>\n",
       "  <tbody>\n",
       "    <tr>\n",
       "      <th>lang</th>\n",
       "      <td>EN</td>\n",
       "    </tr>\n",
       "    <tr>\n",
       "      <th>id</th>\n",
       "      <td>TOUR_DEM_TTTOT</td>\n",
       "    </tr>\n",
       "    <tr>\n",
       "      <th>agencyId</th>\n",
       "      <td>ESTAT</td>\n",
       "    </tr>\n",
       "    <tr>\n",
       "      <th>version</th>\n",
       "      <td>1.0</td>\n",
       "    </tr>\n",
       "    <tr>\n",
       "      <th>annotation</th>\n",
       "      <td>[{'type': 'CREATED', 'date': '2022-10-13T11:34...</td>\n",
       "    </tr>\n",
       "    <tr>\n",
       "      <th>datastructure.id</th>\n",
       "      <td>TOUR_DEM_TTTOT</td>\n",
       "    </tr>\n",
       "    <tr>\n",
       "      <th>datastructure.agencyId</th>\n",
       "      <td>ESTAT</td>\n",
       "    </tr>\n",
       "    <tr>\n",
       "      <th>datastructure.version</th>\n",
       "      <td>39.0</td>\n",
       "    </tr>\n",
       "    <tr>\n",
       "      <th>status.label.b</th>\n",
       "      <td>break in time series</td>\n",
       "    </tr>\n",
       "    <tr>\n",
       "      <th>status.label.e</th>\n",
       "      <td>estimated</td>\n",
       "    </tr>\n",
       "    <tr>\n",
       "      <th>status.label.u</th>\n",
       "      <td>low reliability</td>\n",
       "    </tr>\n",
       "    <tr>\n",
       "      <th>status.label.bu</th>\n",
       "      <td>break in time series, low reliability</td>\n",
       "    </tr>\n",
       "    <tr>\n",
       "      <th>positions-with-no-data.freq</th>\n",
       "      <td>[]</td>\n",
       "    </tr>\n",
       "    <tr>\n",
       "      <th>positions-with-no-data.c_dest</th>\n",
       "      <td>[]</td>\n",
       "    </tr>\n",
       "    <tr>\n",
       "      <th>positions-with-no-data.purpose</th>\n",
       "      <td>[]</td>\n",
       "    </tr>\n",
       "    <tr>\n",
       "      <th>positions-with-no-data.duration</th>\n",
       "      <td>[]</td>\n",
       "    </tr>\n",
       "    <tr>\n",
       "      <th>positions-with-no-data.unit</th>\n",
       "      <td>[]</td>\n",
       "    </tr>\n",
       "    <tr>\n",
       "      <th>positions-with-no-data.geo</th>\n",
       "      <td>[]</td>\n",
       "    </tr>\n",
       "    <tr>\n",
       "      <th>positions-with-no-data.time</th>\n",
       "      <td>[]</td>\n",
       "    </tr>\n",
       "  </tbody>\n",
       "</table>\n",
       "</div>"
      ],
      "text/plain": [
       "                                                                                 0\n",
       "lang                                                                            EN\n",
       "id                                                                  TOUR_DEM_TTTOT\n",
       "agencyId                                                                     ESTAT\n",
       "version                                                                        1.0\n",
       "annotation                       [{'type': 'CREATED', 'date': '2022-10-13T11:34...\n",
       "datastructure.id                                                    TOUR_DEM_TTTOT\n",
       "datastructure.agencyId                                                       ESTAT\n",
       "datastructure.version                                                         39.0\n",
       "status.label.b                                                break in time series\n",
       "status.label.e                                                           estimated\n",
       "status.label.u                                                     low reliability\n",
       "status.label.bu                              break in time series, low reliability\n",
       "positions-with-no-data.freq                                                     []\n",
       "positions-with-no-data.c_dest                                                   []\n",
       "positions-with-no-data.purpose                                                  []\n",
       "positions-with-no-data.duration                                                 []\n",
       "positions-with-no-data.unit                                                     []\n",
       "positions-with-no-data.geo                                                      []\n",
       "positions-with-no-data.time                                                     []"
      ]
     },
     "metadata": {},
     "output_type": "display_data"
    }
   ],
   "source": [
    "url = \"https://ec.europa.eu/eurostat/api/dissemination/statistics/1.0/data/tour_dem_tttot?lang=EN\"\n",
    "\n",
    "response = requests.get(url)\n",
    "if response.status_code == 200:\n",
    "    data = response.json()\n",
    "    print(data.keys())\n",
    "    display(pd.json_normalize(data['extension']).T)\n",
    "\n",
    "else:\n",
    "    print(f\"Erreur {response.status_code} : Impossible to retrieve data\")"
   ]
  },
  {
   "cell_type": "code",
   "execution_count": null,
   "id": "56114095-503d-4fba-83ef-dfc60f85a5b6",
   "metadata": {},
   "outputs": [],
   "source": []
  },
  {
   "cell_type": "code",
   "execution_count": 17,
   "id": "dd86ccac-67e0-4e93-93cb-4e22045e7db3",
   "metadata": {},
   "outputs": [
    {
     "name": "stdout",
     "output_type": "stream",
     "text": [
      "  freq c_dest purpose duration unit        geo  time        value\n",
      "0    A    DOM   TOTAL    N_GE1   NR  EU27_2020  2012  818977006.0\n",
      "1    A    DOM   TOTAL    N_GE1   NR  EU27_2020  2013  795564577.0\n",
      "2    A    DOM   TOTAL    N_GE1   NR  EU27_2020  2014  780507241.0\n",
      "3    A    DOM   TOTAL    N_GE1   NR  EU27_2020  2015  769598755.0\n",
      "4    A    DOM   TOTAL    N_GE1   NR  EU27_2020  2016  791264523.0\n",
      "<class 'pandas.core.frame.DataFrame'>\n",
      "RangeIndex: 10692 entries, 0 to 10691\n",
      "Data columns (total 8 columns):\n",
      " #   Column    Non-Null Count  Dtype  \n",
      "---  ------    --------------  -----  \n",
      " 0   freq      10692 non-null  object \n",
      " 1   c_dest    10692 non-null  object \n",
      " 2   purpose   10692 non-null  object \n",
      " 3   duration  10692 non-null  object \n",
      " 4   unit      10692 non-null  object \n",
      " 5   geo       10692 non-null  object \n",
      " 6   time      10692 non-null  object \n",
      " 7   value     9027 non-null   float64\n",
      "dtypes: float64(1), object(7)\n",
      "memory usage: 668.4+ KB\n",
      "None\n"
     ]
    }
   ],
   "source": [
    "import pandas as pd\n",
    "import itertools\n",
    "\n",
    "def eurostat_to_dataframe(data):\n",
    "    # Extract dimensions and their values\n",
    "    dimensions = data['dimension']\n",
    "    dim_keys = list(dimensions.keys())\n",
    "    dim_values = [dimensions[key]['category']['index'].keys() for key in dim_keys]\n",
    "    \n",
    "    # Create a MultiIndex from the Cartesian product of dimension values\n",
    "    index = pd.MultiIndex.from_product(dim_values, names=dim_keys)\n",
    "\n",
    "    if isinstance(data['value'], dict):\n",
    "        values_list = [data['value'].get(str(i), None) for i in range(len(index))]\n",
    "    else:\n",
    "        values_list = data['value']\n",
    "    \n",
    "    # Create the DataFrame\n",
    "    df = pd.DataFrame({'value': values_list}, index=index)\n",
    "    \n",
    "    # Reset the index to convert MultiIndex to columns\n",
    "    df = df.reset_index()\n",
    "    \n",
    "    return df\n",
    "\n",
    "# Use the function\n",
    "df = eurostat_to_dataframe(data)\n",
    "\n",
    "# Display the first few rows of the DataFrame\n",
    "print(df.head())\n",
    "\n",
    "# Basic info about the DataFrame\n",
    "print(df.info())"
   ]
  },
  {
   "cell_type": "code",
   "execution_count": 18,
   "id": "3b91241f-bd72-4698-9adf-6dda32d9b1ef",
   "metadata": {},
   "outputs": [
    {
     "name": "stdout",
     "output_type": "stream",
     "text": [
      "  freq c_dest purpose duration unit        geo  time        value\n",
      "0    A    DOM   TOTAL    N_GE1   NR  EU27_2020  2012  818977006.0\n",
      "1    A    DOM   TOTAL    N_GE1   NR  EU27_2020  2013  795564577.0\n",
      "2    A    DOM   TOTAL    N_GE1   NR  EU27_2020  2014  780507241.0\n",
      "3    A    DOM   TOTAL    N_GE1   NR  EU27_2020  2015  769598755.0\n",
      "4    A    DOM   TOTAL    N_GE1   NR  EU27_2020  2016  791264523.0\n",
      "<class 'pandas.core.frame.DataFrame'>\n",
      "RangeIndex: 10692 entries, 0 to 10691\n",
      "Data columns (total 8 columns):\n",
      " #   Column    Non-Null Count  Dtype  \n",
      "---  ------    --------------  -----  \n",
      " 0   freq      10692 non-null  object \n",
      " 1   c_dest    10692 non-null  object \n",
      " 2   purpose   10692 non-null  object \n",
      " 3   duration  10692 non-null  object \n",
      " 4   unit      10692 non-null  object \n",
      " 5   geo       10692 non-null  object \n",
      " 6   time      10692 non-null  object \n",
      " 7   value     9027 non-null   float64\n",
      "dtypes: float64(1), object(7)\n",
      "memory usage: 668.4+ KB\n",
      "None\n"
     ]
    }
   ],
   "source": [
    "# Fetch the data\n",
    "url = \"https://ec.europa.eu/eurostat/api/dissemination/statistics/1.0/data/tour_dem_tttot?lang=EN\"\n",
    "response = requests.get(url)\n",
    "\n",
    "if response.status_code == 200:\n",
    "    data = response.json()  # This is the 'data' we pass to the function\n",
    "    \n",
    "    # Use the function to create the DataFrame\n",
    "    df = eurostat_to_dataframe(data)\n",
    "    \n",
    "    # Display the first few rows of the DataFrame\n",
    "    print(df.head())\n",
    "    \n",
    "    # Basic info about the DataFrame\n",
    "    print(df.info())\n",
    "else:\n",
    "    print(f\"Error {response.status_code}: Unable to retrieve data\")"
   ]
  },
  {
   "cell_type": "code",
   "execution_count": 20,
   "id": "094c273e-c2f5-45b2-9081-d8d79d8a2c74",
   "metadata": {},
   "outputs": [
    {
     "data": {
      "text/plain": [
       "1665"
      ]
     },
     "execution_count": 20,
     "metadata": {},
     "output_type": "execute_result"
    }
   ],
   "source": [
    "df['value'].isna().sum()"
   ]
  },
  {
   "cell_type": "code",
   "execution_count": null,
   "id": "25690b98-fd12-4bd8-ad46-c56f2e3250e9",
   "metadata": {},
   "outputs": [],
   "source": []
  },
  {
   "cell_type": "code",
   "execution_count": 21,
   "id": "cd023e74-baeb-4273-9335-78d2025cb7d7",
   "metadata": {},
   "outputs": [],
   "source": [
    "df.dropna(inplace=True)"
   ]
  },
  {
   "cell_type": "code",
   "execution_count": 25,
   "id": "e2e739bb-0ba1-486b-8833-9970919309f9",
   "metadata": {},
   "outputs": [
    {
     "data": {
      "text/plain": [
       "0"
      ]
     },
     "execution_count": 25,
     "metadata": {},
     "output_type": "execute_result"
    }
   ],
   "source": [
    "df.duplicated().sum()"
   ]
  },
  {
   "cell_type": "code",
   "execution_count": 22,
   "id": "bc5faa91-ad1f-42aa-bad5-cb442372b374",
   "metadata": {},
   "outputs": [
    {
     "data": {
      "text/plain": [
       "(9027, 8)"
      ]
     },
     "execution_count": 22,
     "metadata": {},
     "output_type": "execute_result"
    }
   ],
   "source": [
    "df.shape"
   ]
  },
  {
   "cell_type": "code",
   "execution_count": 26,
   "id": "2b2e4754-c724-4b5e-b0c0-ce78c6884d11",
   "metadata": {},
   "outputs": [
    {
     "data": {
      "text/html": [
       "<div>\n",
       "<style scoped>\n",
       "    .dataframe tbody tr th:only-of-type {\n",
       "        vertical-align: middle;\n",
       "    }\n",
       "\n",
       "    .dataframe tbody tr th {\n",
       "        vertical-align: top;\n",
       "    }\n",
       "\n",
       "    .dataframe thead th {\n",
       "        text-align: right;\n",
       "    }\n",
       "</style>\n",
       "<table border=\"1\" class=\"dataframe\">\n",
       "  <thead>\n",
       "    <tr style=\"text-align: right;\">\n",
       "      <th></th>\n",
       "      <th>freq</th>\n",
       "      <th>c_dest</th>\n",
       "      <th>purpose</th>\n",
       "      <th>duration</th>\n",
       "      <th>unit</th>\n",
       "      <th>geo</th>\n",
       "      <th>time</th>\n",
       "      <th>value</th>\n",
       "    </tr>\n",
       "  </thead>\n",
       "  <tbody>\n",
       "    <tr>\n",
       "      <th>0</th>\n",
       "      <td>A</td>\n",
       "      <td>DOM</td>\n",
       "      <td>TOTAL</td>\n",
       "      <td>N_GE1</td>\n",
       "      <td>NR</td>\n",
       "      <td>EU27_2020</td>\n",
       "      <td>2012</td>\n",
       "      <td>818977006.0</td>\n",
       "    </tr>\n",
       "    <tr>\n",
       "      <th>1</th>\n",
       "      <td>A</td>\n",
       "      <td>DOM</td>\n",
       "      <td>TOTAL</td>\n",
       "      <td>N_GE1</td>\n",
       "      <td>NR</td>\n",
       "      <td>EU27_2020</td>\n",
       "      <td>2013</td>\n",
       "      <td>795564577.0</td>\n",
       "    </tr>\n",
       "    <tr>\n",
       "      <th>2</th>\n",
       "      <td>A</td>\n",
       "      <td>DOM</td>\n",
       "      <td>TOTAL</td>\n",
       "      <td>N_GE1</td>\n",
       "      <td>NR</td>\n",
       "      <td>EU27_2020</td>\n",
       "      <td>2014</td>\n",
       "      <td>780507241.0</td>\n",
       "    </tr>\n",
       "    <tr>\n",
       "      <th>3</th>\n",
       "      <td>A</td>\n",
       "      <td>DOM</td>\n",
       "      <td>TOTAL</td>\n",
       "      <td>N_GE1</td>\n",
       "      <td>NR</td>\n",
       "      <td>EU27_2020</td>\n",
       "      <td>2015</td>\n",
       "      <td>769598755.0</td>\n",
       "    </tr>\n",
       "    <tr>\n",
       "      <th>4</th>\n",
       "      <td>A</td>\n",
       "      <td>DOM</td>\n",
       "      <td>TOTAL</td>\n",
       "      <td>N_GE1</td>\n",
       "      <td>NR</td>\n",
       "      <td>EU27_2020</td>\n",
       "      <td>2016</td>\n",
       "      <td>791264523.0</td>\n",
       "    </tr>\n",
       "  </tbody>\n",
       "</table>\n",
       "</div>"
      ],
      "text/plain": [
       "  freq c_dest purpose duration unit        geo  time        value\n",
       "0    A    DOM   TOTAL    N_GE1   NR  EU27_2020  2012  818977006.0\n",
       "1    A    DOM   TOTAL    N_GE1   NR  EU27_2020  2013  795564577.0\n",
       "2    A    DOM   TOTAL    N_GE1   NR  EU27_2020  2014  780507241.0\n",
       "3    A    DOM   TOTAL    N_GE1   NR  EU27_2020  2015  769598755.0\n",
       "4    A    DOM   TOTAL    N_GE1   NR  EU27_2020  2016  791264523.0"
      ]
     },
     "execution_count": 26,
     "metadata": {},
     "output_type": "execute_result"
    }
   ],
   "source": [
    "df.head()"
   ]
  },
  {
   "cell_type": "markdown",
   "id": "5ba43d52-7cbf-483f-90eb-8de6f32d52c9",
   "metadata": {},
   "source": [
    "### DF destinations"
   ]
  },
  {
   "cell_type": "code",
   "execution_count": 32,
   "id": "0b060ee6-024d-439d-9731-de62be7bd530",
   "metadata": {
    "scrolled": true
   },
   "outputs": [
    {
     "data": {
      "text/html": [
       "<div>\n",
       "<style scoped>\n",
       "    .dataframe tbody tr th:only-of-type {\n",
       "        vertical-align: middle;\n",
       "    }\n",
       "\n",
       "    .dataframe tbody tr th {\n",
       "        vertical-align: top;\n",
       "    }\n",
       "\n",
       "    .dataframe thead th {\n",
       "        text-align: right;\n",
       "    }\n",
       "</style>\n",
       "<table border=\"1\" class=\"dataframe\">\n",
       "  <thead>\n",
       "    <tr style=\"text-align: right;\">\n",
       "      <th></th>\n",
       "      <th>Destination</th>\n",
       "      <th>Region</th>\n",
       "      <th>Country</th>\n",
       "      <th>Category</th>\n",
       "      <th>Latitude</th>\n",
       "      <th>Longitude</th>\n",
       "      <th>Approximate Annual Tourists</th>\n",
       "      <th>Currency</th>\n",
       "      <th>Majority Religion</th>\n",
       "      <th>Famous Foods</th>\n",
       "      <th>Language</th>\n",
       "      <th>Best Time to Visit</th>\n",
       "      <th>Cost of Living</th>\n",
       "      <th>Safety</th>\n",
       "      <th>Cultural Significance</th>\n",
       "      <th>Description</th>\n",
       "    </tr>\n",
       "  </thead>\n",
       "  <tbody>\n",
       "    <tr>\n",
       "      <th>0</th>\n",
       "      <td>Rome</td>\n",
       "      <td>Lazio</td>\n",
       "      <td>Italy</td>\n",
       "      <td>City</td>\n",
       "      <td>41.902782</td>\n",
       "      <td>12.496366</td>\n",
       "      <td>14 million</td>\n",
       "      <td>Euro</td>\n",
       "      <td>Roman Catholic</td>\n",
       "      <td>Pizza, Pasta, Gelato</td>\n",
       "      <td>Italian</td>\n",
       "      <td>Spring (April-May) or Fall (Sept-Oct)</td>\n",
       "      <td>Medium-high</td>\n",
       "      <td>Generally safe, but watch out for pickpockets</td>\n",
       "      <td>The capital city, known for its historical lan...</td>\n",
       "      <td>A hub of ancient history and modern culture, w...</td>\n",
       "    </tr>\n",
       "    <tr>\n",
       "      <th>1</th>\n",
       "      <td>Florence</td>\n",
       "      <td>Tuscany</td>\n",
       "      <td>Italy</td>\n",
       "      <td>City</td>\n",
       "      <td>43.769581</td>\n",
       "      <td>11.255772</td>\n",
       "      <td>10 million</td>\n",
       "      <td>Euro</td>\n",
       "      <td>Roman Catholic</td>\n",
       "      <td>Pizza, Pasta, Gelato</td>\n",
       "      <td>Italian</td>\n",
       "      <td>Spring (April-May) or Fall (Sept-Oct)</td>\n",
       "      <td>Medium-high</td>\n",
       "      <td>Generally safe, but watch out for pickpockets</td>\n",
       "      <td>A Renaissance city famous for its art, archite...</td>\n",
       "      <td>Home to world-class museums, including the Uff...</td>\n",
       "    </tr>\n",
       "    <tr>\n",
       "      <th>2</th>\n",
       "      <td>Venice</td>\n",
       "      <td>Veneto</td>\n",
       "      <td>Italy</td>\n",
       "      <td>City</td>\n",
       "      <td>45.435559</td>\n",
       "      <td>12.336196</td>\n",
       "      <td>10 million</td>\n",
       "      <td>Euro</td>\n",
       "      <td>Roman Catholic</td>\n",
       "      <td>Pizza, Pasta, Gelato</td>\n",
       "      <td>Italian</td>\n",
       "      <td>Spring (April-May) or Fall (Sept-Oct)</td>\n",
       "      <td>Medium-high</td>\n",
       "      <td>Generally safe, but watch out for pickpockets</td>\n",
       "      <td>A unique city built on canals, known for its g...</td>\n",
       "      <td>An iconic city of water, renowned for romantic...</td>\n",
       "    </tr>\n",
       "    <tr>\n",
       "      <th>3</th>\n",
       "      <td>Milan</td>\n",
       "      <td>Lombardy</td>\n",
       "      <td>Italy</td>\n",
       "      <td>City</td>\n",
       "      <td>45.464643</td>\n",
       "      <td>9.188540</td>\n",
       "      <td>7 million</td>\n",
       "      <td>Euro</td>\n",
       "      <td>Roman Catholic</td>\n",
       "      <td>Risotto, Ossobuco, Panettone</td>\n",
       "      <td>Italian</td>\n",
       "      <td>Spring (April-May) or Fall (Sept-Oct)</td>\n",
       "      <td>High</td>\n",
       "      <td>Generally safe, but watch out for pickpockets</td>\n",
       "      <td>A fashion capital known for its shopping, muse...</td>\n",
       "      <td>A modern city with an ancient soul, featuring ...</td>\n",
       "    </tr>\n",
       "    <tr>\n",
       "      <th>4</th>\n",
       "      <td>Naples</td>\n",
       "      <td>Campania</td>\n",
       "      <td>Italy</td>\n",
       "      <td>City</td>\n",
       "      <td>40.851330</td>\n",
       "      <td>14.254720</td>\n",
       "      <td>5 million</td>\n",
       "      <td>Euro</td>\n",
       "      <td>Roman Catholic</td>\n",
       "      <td>Pizza, Pasta, Cannoli</td>\n",
       "      <td>Italian</td>\n",
       "      <td>Spring (April-May) or Fall (Sept-Oct)</td>\n",
       "      <td>Medium</td>\n",
       "      <td>Generally safe, but be aware of pickpockets</td>\n",
       "      <td>A vibrant city known for its delicious food, h...</td>\n",
       "      <td>Famous for pizza, Pompeii, and proximity to th...</td>\n",
       "    </tr>\n",
       "  </tbody>\n",
       "</table>\n",
       "</div>"
      ],
      "text/plain": [
       "  Destination    Region Country Category   Latitude  Longitude  \\\n",
       "0        Rome     Lazio   Italy     City  41.902782  12.496366   \n",
       "1    Florence   Tuscany   Italy     City  43.769581  11.255772   \n",
       "2      Venice    Veneto   Italy     City  45.435559  12.336196   \n",
       "3       Milan  Lombardy   Italy     City  45.464643   9.188540   \n",
       "4      Naples  Campania   Italy     City  40.851330  14.254720   \n",
       "\n",
       "  Approximate Annual Tourists Currency Majority Religion  \\\n",
       "0                  14 million     Euro    Roman Catholic   \n",
       "1                  10 million     Euro    Roman Catholic   \n",
       "2                  10 million     Euro    Roman Catholic   \n",
       "3                   7 million     Euro    Roman Catholic   \n",
       "4                   5 million     Euro    Roman Catholic   \n",
       "\n",
       "                   Famous Foods Language  \\\n",
       "0          Pizza, Pasta, Gelato  Italian   \n",
       "1          Pizza, Pasta, Gelato  Italian   \n",
       "2          Pizza, Pasta, Gelato  Italian   \n",
       "3  Risotto, Ossobuco, Panettone  Italian   \n",
       "4         Pizza, Pasta, Cannoli  Italian   \n",
       "\n",
       "                      Best Time to Visit Cost of Living  \\\n",
       "0  Spring (April-May) or Fall (Sept-Oct)    Medium-high   \n",
       "1  Spring (April-May) or Fall (Sept-Oct)    Medium-high   \n",
       "2  Spring (April-May) or Fall (Sept-Oct)    Medium-high   \n",
       "3  Spring (April-May) or Fall (Sept-Oct)           High   \n",
       "4  Spring (April-May) or Fall (Sept-Oct)         Medium   \n",
       "\n",
       "                                          Safety  \\\n",
       "0  Generally safe, but watch out for pickpockets   \n",
       "1  Generally safe, but watch out for pickpockets   \n",
       "2  Generally safe, but watch out for pickpockets   \n",
       "3  Generally safe, but watch out for pickpockets   \n",
       "4    Generally safe, but be aware of pickpockets   \n",
       "\n",
       "                               Cultural Significance  \\\n",
       "0  The capital city, known for its historical lan...   \n",
       "1  A Renaissance city famous for its art, archite...   \n",
       "2  A unique city built on canals, known for its g...   \n",
       "3  A fashion capital known for its shopping, muse...   \n",
       "4  A vibrant city known for its delicious food, h...   \n",
       "\n",
       "                                         Description  \n",
       "0  A hub of ancient history and modern culture, w...  \n",
       "1  Home to world-class museums, including the Uff...  \n",
       "2  An iconic city of water, renowned for romantic...  \n",
       "3  A modern city with an ancient soul, featuring ...  \n",
       "4  Famous for pizza, Pompeii, and proximity to th...  "
      ]
     },
     "execution_count": 32,
     "metadata": {},
     "output_type": "execute_result"
    }
   ],
   "source": [
    "df1 = pd.read_csv(\"../data/raw/destinations.csv\", encoding='latin-1')\n",
    "df1.head()"
   ]
  },
  {
   "cell_type": "code",
   "execution_count": 35,
   "id": "337fae18-f9c2-4e59-bd27-6d3d5091e34b",
   "metadata": {},
   "outputs": [],
   "source": [
    "df1['Description'] = df1['Description'].fillna('')"
   ]
  },
  {
   "cell_type": "code",
   "execution_count": 37,
   "id": "e17a8dfa-22c1-4e78-807d-6d23dabe6c44",
   "metadata": {},
   "outputs": [
    {
     "data": {
      "text/plain": [
       "Destination                    0\n",
       "Region                         0\n",
       "Country                        0\n",
       "Category                       0\n",
       "Latitude                       0\n",
       "Longitude                      0\n",
       "Approximate Annual Tourists    0\n",
       "Currency                       0\n",
       "Majority Religion              0\n",
       "Famous Foods                   0\n",
       "Language                       0\n",
       "Best Time to Visit             0\n",
       "Cost of Living                 0\n",
       "Safety                         0\n",
       "Cultural Significance          0\n",
       "Description                    0\n",
       "dtype: int64"
      ]
     },
     "execution_count": 37,
     "metadata": {},
     "output_type": "execute_result"
    }
   ],
   "source": [
    "df1.isna().sum()"
   ]
  },
  {
   "cell_type": "code",
   "execution_count": 36,
   "id": "30969019-40d5-4d12-88c9-91edf605a880",
   "metadata": {},
   "outputs": [
    {
     "data": {
      "text/plain": [
       "0"
      ]
     },
     "execution_count": 36,
     "metadata": {},
     "output_type": "execute_result"
    }
   ],
   "source": [
    "df1.duplicated().sum()"
   ]
  },
  {
   "cell_type": "markdown",
   "id": "6bc068dd-1c7e-4dd9-97fd-49d86cbea253",
   "metadata": {},
   "source": [
    "### DF tripadvisor european restaurant"
   ]
  },
  {
   "cell_type": "code",
   "execution_count": 101,
   "id": "5364f293-ca1a-4012-ae7d-b0364c3a39e9",
   "metadata": {
    "scrolled": true
   },
   "outputs": [
    {
     "name": "stderr",
     "output_type": "stream",
     "text": [
      "/var/folders/7w/mr3l1rjn21bd3r_kvq3bgr1h0000gn/T/ipykernel_91688/246582737.py:1: DtypeWarning: Columns (4) have mixed types. Specify dtype option on import or set low_memory=False.\n",
      "  df2 = pd.read_csv(\"../data/raw/tripadvisor_european_restaurants.csv\")\n"
     ]
    },
    {
     "data": {
      "text/html": [
       "<div>\n",
       "<style scoped>\n",
       "    .dataframe tbody tr th:only-of-type {\n",
       "        vertical-align: middle;\n",
       "    }\n",
       "\n",
       "    .dataframe tbody tr th {\n",
       "        vertical-align: top;\n",
       "    }\n",
       "\n",
       "    .dataframe thead th {\n",
       "        text-align: right;\n",
       "    }\n",
       "</style>\n",
       "<table border=\"1\" class=\"dataframe\">\n",
       "  <thead>\n",
       "    <tr style=\"text-align: right;\">\n",
       "      <th></th>\n",
       "      <th>restaurant_link</th>\n",
       "      <th>restaurant_name</th>\n",
       "      <th>original_location</th>\n",
       "      <th>country</th>\n",
       "      <th>region</th>\n",
       "      <th>province</th>\n",
       "      <th>city</th>\n",
       "      <th>address</th>\n",
       "      <th>latitude</th>\n",
       "      <th>longitude</th>\n",
       "      <th>...</th>\n",
       "      <th>excellent</th>\n",
       "      <th>very_good</th>\n",
       "      <th>average</th>\n",
       "      <th>poor</th>\n",
       "      <th>terrible</th>\n",
       "      <th>food</th>\n",
       "      <th>service</th>\n",
       "      <th>value</th>\n",
       "      <th>atmosphere</th>\n",
       "      <th>keywords</th>\n",
       "    </tr>\n",
       "  </thead>\n",
       "  <tbody>\n",
       "    <tr>\n",
       "      <th>0</th>\n",
       "      <td>g10001637-d10002227</td>\n",
       "      <td>Le 147</td>\n",
       "      <td>[\"Europe\", \"France\", \"Nouvelle-Aquitaine\", \"Ha...</td>\n",
       "      <td>France</td>\n",
       "      <td>Nouvelle-Aquitaine</td>\n",
       "      <td>Haute-Vienne</td>\n",
       "      <td>Saint-Jouvent</td>\n",
       "      <td>10 Maison Neuve, 87510 Saint-Jouvent France</td>\n",
       "      <td>45.961674</td>\n",
       "      <td>1.169131</td>\n",
       "      <td>...</td>\n",
       "      <td>2.0</td>\n",
       "      <td>0.0</td>\n",
       "      <td>0.0</td>\n",
       "      <td>0.0</td>\n",
       "      <td>0.0</td>\n",
       "      <td>4.0</td>\n",
       "      <td>4.5</td>\n",
       "      <td>4.0</td>\n",
       "      <td>NaN</td>\n",
       "      <td>NaN</td>\n",
       "    </tr>\n",
       "    <tr>\n",
       "      <th>1</th>\n",
       "      <td>g10001637-d14975787</td>\n",
       "      <td>Le Saint Jouvent</td>\n",
       "      <td>[\"Europe\", \"France\", \"Nouvelle-Aquitaine\", \"Ha...</td>\n",
       "      <td>France</td>\n",
       "      <td>Nouvelle-Aquitaine</td>\n",
       "      <td>Haute-Vienne</td>\n",
       "      <td>Saint-Jouvent</td>\n",
       "      <td>16 Place de l Eglise, 87510 Saint-Jouvent France</td>\n",
       "      <td>45.957040</td>\n",
       "      <td>1.205480</td>\n",
       "      <td>...</td>\n",
       "      <td>2.0</td>\n",
       "      <td>2.0</td>\n",
       "      <td>1.0</td>\n",
       "      <td>0.0</td>\n",
       "      <td>0.0</td>\n",
       "      <td>NaN</td>\n",
       "      <td>NaN</td>\n",
       "      <td>NaN</td>\n",
       "      <td>NaN</td>\n",
       "      <td>NaN</td>\n",
       "    </tr>\n",
       "    <tr>\n",
       "      <th>2</th>\n",
       "      <td>g10002858-d4586832</td>\n",
       "      <td>Au Bout du Pont</td>\n",
       "      <td>[\"Europe\", \"France\", \"Centre-Val de Loire\", \"B...</td>\n",
       "      <td>France</td>\n",
       "      <td>Centre-Val de Loire</td>\n",
       "      <td>Berry</td>\n",
       "      <td>Rivarennes</td>\n",
       "      <td>2 rue des Dames, 36800 Rivarennes France</td>\n",
       "      <td>46.635895</td>\n",
       "      <td>1.386133</td>\n",
       "      <td>...</td>\n",
       "      <td>3.0</td>\n",
       "      <td>1.0</td>\n",
       "      <td>0.0</td>\n",
       "      <td>0.0</td>\n",
       "      <td>0.0</td>\n",
       "      <td>NaN</td>\n",
       "      <td>NaN</td>\n",
       "      <td>NaN</td>\n",
       "      <td>NaN</td>\n",
       "      <td>NaN</td>\n",
       "    </tr>\n",
       "    <tr>\n",
       "      <th>3</th>\n",
       "      <td>g10002986-d3510044</td>\n",
       "      <td>Le Relais de Naiade</td>\n",
       "      <td>[\"Europe\", \"France\", \"Nouvelle-Aquitaine\", \"Co...</td>\n",
       "      <td>France</td>\n",
       "      <td>Nouvelle-Aquitaine</td>\n",
       "      <td>Correze</td>\n",
       "      <td>Lacelle</td>\n",
       "      <td>9 avenue Porte de la Correze 19170, 19170 Lace...</td>\n",
       "      <td>45.642610</td>\n",
       "      <td>1.824460</td>\n",
       "      <td>...</td>\n",
       "      <td>1.0</td>\n",
       "      <td>0.0</td>\n",
       "      <td>0.0</td>\n",
       "      <td>0.0</td>\n",
       "      <td>0.0</td>\n",
       "      <td>4.5</td>\n",
       "      <td>4.5</td>\n",
       "      <td>4.5</td>\n",
       "      <td>NaN</td>\n",
       "      <td>NaN</td>\n",
       "    </tr>\n",
       "    <tr>\n",
       "      <th>4</th>\n",
       "      <td>g10022428-d9767191</td>\n",
       "      <td>Relais Du MontSeigne</td>\n",
       "      <td>[\"Europe\", \"France\", \"Occitanie\", \"Aveyron\", \"...</td>\n",
       "      <td>France</td>\n",
       "      <td>Occitanie</td>\n",
       "      <td>Aveyron</td>\n",
       "      <td>Saint-Laurent-de-Levezou</td>\n",
       "      <td>route du Montseigne, 12620 Saint-Laurent-de-Le...</td>\n",
       "      <td>44.208860</td>\n",
       "      <td>2.960470</td>\n",
       "      <td>...</td>\n",
       "      <td>4.0</td>\n",
       "      <td>7.0</td>\n",
       "      <td>0.0</td>\n",
       "      <td>0.0</td>\n",
       "      <td>0.0</td>\n",
       "      <td>4.5</td>\n",
       "      <td>4.5</td>\n",
       "      <td>4.5</td>\n",
       "      <td>NaN</td>\n",
       "      <td>NaN</td>\n",
       "    </tr>\n",
       "  </tbody>\n",
       "</table>\n",
       "<p>5 rows × 42 columns</p>\n",
       "</div>"
      ],
      "text/plain": [
       "       restaurant_link       restaurant_name  \\\n",
       "0  g10001637-d10002227                Le 147   \n",
       "1  g10001637-d14975787      Le Saint Jouvent   \n",
       "2   g10002858-d4586832       Au Bout du Pont   \n",
       "3   g10002986-d3510044   Le Relais de Naiade   \n",
       "4   g10022428-d9767191  Relais Du MontSeigne   \n",
       "\n",
       "                                   original_location country  \\\n",
       "0  [\"Europe\", \"France\", \"Nouvelle-Aquitaine\", \"Ha...  France   \n",
       "1  [\"Europe\", \"France\", \"Nouvelle-Aquitaine\", \"Ha...  France   \n",
       "2  [\"Europe\", \"France\", \"Centre-Val de Loire\", \"B...  France   \n",
       "3  [\"Europe\", \"France\", \"Nouvelle-Aquitaine\", \"Co...  France   \n",
       "4  [\"Europe\", \"France\", \"Occitanie\", \"Aveyron\", \"...  France   \n",
       "\n",
       "                region      province                      city  \\\n",
       "0   Nouvelle-Aquitaine  Haute-Vienne             Saint-Jouvent   \n",
       "1   Nouvelle-Aquitaine  Haute-Vienne             Saint-Jouvent   \n",
       "2  Centre-Val de Loire         Berry                Rivarennes   \n",
       "3   Nouvelle-Aquitaine       Correze                   Lacelle   \n",
       "4            Occitanie       Aveyron  Saint-Laurent-de-Levezou   \n",
       "\n",
       "                                             address   latitude  longitude  \\\n",
       "0        10 Maison Neuve, 87510 Saint-Jouvent France  45.961674   1.169131   \n",
       "1   16 Place de l Eglise, 87510 Saint-Jouvent France  45.957040   1.205480   \n",
       "2           2 rue des Dames, 36800 Rivarennes France  46.635895   1.386133   \n",
       "3  9 avenue Porte de la Correze 19170, 19170 Lace...  45.642610   1.824460   \n",
       "4  route du Montseigne, 12620 Saint-Laurent-de-Le...  44.208860   2.960470   \n",
       "\n",
       "   ... excellent very_good average poor terrible food service value  \\\n",
       "0  ...       2.0       0.0     0.0  0.0      0.0  4.0     4.5   4.0   \n",
       "1  ...       2.0       2.0     1.0  0.0      0.0  NaN     NaN   NaN   \n",
       "2  ...       3.0       1.0     0.0  0.0      0.0  NaN     NaN   NaN   \n",
       "3  ...       1.0       0.0     0.0  0.0      0.0  4.5     4.5   4.5   \n",
       "4  ...       4.0       7.0     0.0  0.0      0.0  4.5     4.5   4.5   \n",
       "\n",
       "  atmosphere keywords  \n",
       "0        NaN      NaN  \n",
       "1        NaN      NaN  \n",
       "2        NaN      NaN  \n",
       "3        NaN      NaN  \n",
       "4        NaN      NaN  \n",
       "\n",
       "[5 rows x 42 columns]"
      ]
     },
     "execution_count": 101,
     "metadata": {},
     "output_type": "execute_result"
    }
   ],
   "source": [
    "df2 = pd.read_csv(\"../data/raw/tripadvisor_european_restaurants.csv\")\n",
    "df2.head()"
   ]
  },
  {
   "cell_type": "code",
   "execution_count": 102,
   "id": "1a17bf87-6c55-49e2-9415-36889b5326eb",
   "metadata": {},
   "outputs": [],
   "source": [
    "df2 = df2.drop(['restaurant_link', 'original_location', 'country', 'region', 'province', 'city', 'default_language','working_shifts_per_week', 'latitude', \n",
    "                'longitude', 'popularity_generic', 'open_hours_per_week', 'features', 'atmosphere','keywords', 'special_diets',\n",
    "               'excellent', 'very_good', 'average', 'poor', 'terrible', 'reviews_count_in_default_language'], axis=1)"
   ]
  },
  {
   "cell_type": "code",
   "execution_count": 103,
   "id": "dfc25059-f44d-4761-81f1-e16eacc11dea",
   "metadata": {},
   "outputs": [],
   "source": [
    "df2.fillna({\n",
    "    'awards': 'Unknown',\n",
    "    'claimed': 'Unknown',\n",
    "    'popularity_detailed': 'Unknown',\n",
    "    'top_tags': 'Unknown',\n",
    "    'price_level': 'Unknown',\n",
    "    'price_range': 'Unknown',\n",
    "    'meals': 'Unknown',\n",
    "    'cuisines': 'Unknown',\n",
    "    'original_open_hours': 'Unknown',\n",
    "    'open_days_per_week': 'Unknown',    \n",
    "}, inplace=True)"
   ]
  },
  {
   "cell_type": "code",
   "execution_count": 104,
   "id": "819ecaea-c9e9-43ea-9d2b-6a992f967281",
   "metadata": {},
   "outputs": [
    {
     "data": {
      "text/plain": [
       "restaurant_name             1\n",
       "address                     0\n",
       "claimed                     0\n",
       "awards                      0\n",
       "popularity_detailed         0\n",
       "top_tags                    0\n",
       "price_level                 0\n",
       "price_range                 0\n",
       "meals                       0\n",
       "cuisines                    0\n",
       "vegetarian_friendly         0\n",
       "vegan_options               0\n",
       "gluten_free                 0\n",
       "original_open_hours         0\n",
       "open_days_per_week          0\n",
       "avg_rating              96636\n",
       "total_reviews_count     52235\n",
       "food                   484072\n",
       "service                479110\n",
       "value                  480705\n",
       "dtype: int64"
      ]
     },
     "execution_count": 104,
     "metadata": {},
     "output_type": "execute_result"
    }
   ],
   "source": [
    "df2.isna().sum()"
   ]
  },
  {
   "cell_type": "code",
   "execution_count": 105,
   "id": "2380c8b7-0158-4a88-a254-f56eaddfc79d",
   "metadata": {},
   "outputs": [],
   "source": [
    "df2 = df2.dropna()"
   ]
  },
  {
   "cell_type": "code",
   "execution_count": 106,
   "id": "82a4da9a-f7d6-4a47-b45c-22c041c2f145",
   "metadata": {},
   "outputs": [
    {
     "data": {
      "text/plain": [
       "restaurant_name        0\n",
       "address                0\n",
       "claimed                0\n",
       "awards                 0\n",
       "popularity_detailed    0\n",
       "top_tags               0\n",
       "price_level            0\n",
       "price_range            0\n",
       "meals                  0\n",
       "cuisines               0\n",
       "vegetarian_friendly    0\n",
       "vegan_options          0\n",
       "gluten_free            0\n",
       "original_open_hours    0\n",
       "open_days_per_week     0\n",
       "avg_rating             0\n",
       "total_reviews_count    0\n",
       "food                   0\n",
       "service                0\n",
       "value                  0\n",
       "dtype: int64"
      ]
     },
     "execution_count": 106,
     "metadata": {},
     "output_type": "execute_result"
    }
   ],
   "source": [
    "df2.isna().sum()"
   ]
  },
  {
   "cell_type": "code",
   "execution_count": 107,
   "id": "caa277b9-edd1-4ff8-b263-dcc409acc7b7",
   "metadata": {},
   "outputs": [
    {
     "data": {
      "text/plain": [
       "(595793, 20)"
      ]
     },
     "execution_count": 107,
     "metadata": {},
     "output_type": "execute_result"
    }
   ],
   "source": [
    "df2.shape"
   ]
  },
  {
   "cell_type": "markdown",
   "id": "4dd89351-d204-4a27-b25d-4179f2fed4fb",
   "metadata": {},
   "source": [
    "## Export csv"
   ]
  },
  {
   "cell_type": "code",
   "execution_count": 109,
   "id": "e53be5e9-38c4-445f-a53b-3fa0562dc84c",
   "metadata": {},
   "outputs": [],
   "source": [
    "df.to_csv('../data/clean/trip_eurostat_clean.csv', index=False)"
   ]
  },
  {
   "cell_type": "code",
   "execution_count": 110,
   "id": "5898374b-ac3e-415c-b1db-65087dad825e",
   "metadata": {},
   "outputs": [],
   "source": [
    "df1.to_csv('../data/clean/destinations_clean.csv', index=False)"
   ]
  },
  {
   "cell_type": "code",
   "execution_count": null,
   "id": "2e0e9ee9-d8f5-4aa8-8ba7-4a0dcdabf5c1",
   "metadata": {},
   "outputs": [],
   "source": []
  },
  {
   "cell_type": "code",
   "execution_count": 111,
   "id": "1b6e5516-72d1-4783-a939-37b7c8d69662",
   "metadata": {},
   "outputs": [],
   "source": [
    "df2.to_csv('../data/clean/restaurants_tripadvisor_clean.csv', index=False)"
   ]
  },
  {
   "cell_type": "code",
   "execution_count": null,
   "id": "2a6bae3a-7be5-497e-875d-51afd24cb9d5",
   "metadata": {},
   "outputs": [],
   "source": []
  }
 ],
 "metadata": {
  "kernelspec": {
   "display_name": "Python 3 (ipykernel)",
   "language": "python",
   "name": "python3"
  },
  "language_info": {
   "codemirror_mode": {
    "name": "ipython",
    "version": 3
   },
   "file_extension": ".py",
   "mimetype": "text/x-python",
   "name": "python",
   "nbconvert_exporter": "python",
   "pygments_lexer": "ipython3",
   "version": "3.8.18"
  }
 },
 "nbformat": 4,
 "nbformat_minor": 5
}
