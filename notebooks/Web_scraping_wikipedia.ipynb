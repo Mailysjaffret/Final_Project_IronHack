{
 "cells": [
  {
   "cell_type": "markdown",
   "id": "318934b8-bb97-42b8-a2ac-e370b6e1beff",
   "metadata": {},
   "source": [
    "# FINAL PROJECT : tourism in Europe"
   ]
  },
  {
   "cell_type": "code",
   "execution_count": 44,
   "id": "a580b2c0-3c78-4634-baef-f629f8b34ca2",
   "metadata": {},
   "outputs": [],
   "source": [
    "# Import libraries\n",
    "\n",
    "import re\n",
    "from pathlib import Path\n",
    "from urllib.parse import quote\n",
    "\n",
    "import requests\n",
    "import pandas as pd\n",
    "from bs4 import BeautifulSoup"
   ]
  },
  {
   "cell_type": "code",
   "execution_count": 45,
   "id": "d528ab94-bd32-4a46-bde7-343bc3765999",
   "metadata": {},
   "outputs": [],
   "source": [
    "# Params\n",
    "\n",
    "TARGET_CITIES = {\"Paris\":\"Paris\",\"Berlin\":\"Berlin\",\"Madrid\":\"Madrid\",\"Rome\":\"Rome\"}\n",
    "URL = \"https://en.wikipedia.org/wiki/List_of_cities_by_international_visitors\"\n",
    "OUTPUT_CSV = \"../data/clean/wiki_city_international_visitors.csv\"\n",
    "UA = {\"User-Agent\":\"Mozilla/5.0\"}"
   ]
  },
  {
   "cell_type": "code",
   "execution_count": 46,
   "id": "5fccdaae-b3c9-460f-9540-c56b0596032a",
   "metadata": {},
   "outputs": [],
   "source": [
    "# Utils\n",
    "\n",
    "def parse_number(x):\n",
    "    #'24.5', '24,5', '24.5 million', '24,500,000' -> float (absolu)\n",
    "    s = str(x).lower()\n",
    "    is_million = \"million\" in s\n",
    "    s = (s.replace(\"million\",\"\").replace(\"millions\",\"\")\n",
    "           .replace(\"\\u2009\",\"\").replace(\"\\xa0\",\" \").strip())\n",
    "    s = re.sub(r\"[^0-9,.\\-]\", \"\", s)\n",
    "    if s.count(\",\")>0 and \".\" not in s: s = s.replace(\",\", \".\")\n",
    "    else: s = s.replace(\",\", \"\")\n",
    "    try: v = float(s)\n",
    "    except: return float(\"nan\")\n",
    "    return v*1_000_000 if is_million else v\n",
    "\n",
    "def city_desc(city: str, lang=\"en\") -> str:\n",
    "    # Scrape de la page ville: meta description ou 1er paragraphe\n",
    "    url = f\"https://{lang}.wikipedia.org/wiki/{quote(city.replace(' ','_'))}\"\n",
    "    try:\n",
    "        r = requests.get(url, headers=UA, timeout=15); r.raise_for_status()\n",
    "        soup = BeautifulSoup(r.text, \"lxml\")\n",
    "        meta = soup.find(\"meta\", attrs={\"name\":\"description\"}) or soup.find(\"meta\", attrs={\"property\":\"og:description\"})\n",
    "        if meta and meta.get(\"content\"): return meta[\"content\"].strip()\n",
    "        for p in soup.select(\"#mw-content-text .mw-parser-output > p\"):\n",
    "            t = re.sub(r\"\\[.*?\\]\",\"\", p.get_text(\" \", strip=True)).strip()\n",
    "            t = re.sub(r\"^\\s*\\([^)]*\\)\\s*\", \"\", t)\n",
    "            if len(t)>=80: return t\n",
    "    except: pass\n",
    "    return \"\"\n",
    "\n",
    "def _col_like(df, keys):\n",
    "    for c in df.columns:\n",
    "        if any(k in str(c).lower() for k in keys): return c\n",
    "\n",
    "def _normalize_city(s: pd.Series) -> pd.Series:\n",
    "    return (s.astype(str).str.replace(r\"\\s*\\(.*?\\)$\",\"\",regex=True)\n",
    "                     .str.partition(\",\")[0].str.strip())\n",
    "\n",
    "def _try_table(t: pd.DataFrame):\n",
    "    # Retourne (df_norm, millions_header) ou (None, None)\n",
    "    city = _col_like(t, [\"city\",\"destination\"])\n",
    "    visitors = _col_like(t, [\"visitor\",\"arrival\",\"overnight\"])\n",
    "    if not (city and visitors): return None, None\n",
    "    country = _col_like(t, [\"country\",\"nation\"])\n",
    "    yearcol = _col_like(t, [\"year\"])\n",
    "\n",
    "    # Année depuis l'en-tête (ex: \"Arrivals 2018\", \"Visitors (2018)\")\n",
    "    m = re.search(r\"(20\\d{2})\", str(visitors))\n",
    "    header_year = int(m.group(1)) if m else None\n",
    "    millions_header = \"million\" in str(visitors).lower()\n",
    "\n",
    "    ren = {city:\"city\", visitors:\"visitors\"}\n",
    "    if country: ren[country]=\"country\"\n",
    "    if yearcol: ren[yearcol]=\"year\"\n",
    "    df = t.rename(columns=ren).copy()\n",
    "\n",
    "    # City, Country dans la même cellule ?\n",
    "    if \"country\" not in df and \"city\" in df:\n",
    "        sp = df[\"city\"].astype(str).str.split(\",\", n=1, expand=True)\n",
    "        if sp.shape[1]==2:\n",
    "            df[\"city\"], df[\"country\"] = sp[0].str.strip(), sp[1].str.strip()\n",
    "\n",
    "    df[\"city\"] = _normalize_city(df[\"city\"])\n",
    "    if \"year\" in df: df[\"year\"] = pd.to_numeric(df[\"year\"], errors=\"coerce\").astype(\"Int64\")\n",
    "    else: df[\"year\"] = header_year\n",
    "\n",
    "    keep = [\"city\",\"visitors\",\"year\"] + ([\"country\"] if \"country\" in df else [])\n",
    "    return df[keep].copy(), millions_header\n",
    "\n",
    "def scrape_2018(url: str, targets: dict) -> pd.DataFrame:\n",
    "    \"\"\"Extrait uniquement 2018 pour les villes cibles.\"\"\"\n",
    "    r = requests.get(url, headers=UA, timeout=20); r.raise_for_status()\n",
    "    rows = []\n",
    "    for t in pd.read_html(r.text):\n",
    "        df, millions_header = _try_table(t)\n",
    "        if df is None: continue\n",
    "        df = df[df[\"year\"]==2018].copy()\n",
    "        if df.empty: continue\n",
    "        df[\"visitors\"] = df[\"visitors\"].apply(parse_number)\n",
    "        if millions_header and df[\"visitors\"].max(skipna=True) < 1000:\n",
    "            df[\"visitors\"] = df[\"visitors\"] * 1_000_000\n",
    "        want = {v.lower():k for k,v in targets.items()}\n",
    "        df = df[df[\"city\"].str.lower().isin(want.keys())].copy()\n",
    "        if df.empty: continue\n",
    "        df[\"city\"] = df[\"city\"].str.lower().map(want)\n",
    "        rows.append(df[[\"city\",\"visitors\"] + ([\"country\"] if \"country\" in df.columns else [])])\n",
    "\n",
    "    if not rows: raise RuntimeError(\"Aucune ligne 2018 trouvée pour les villes cibles.\")\n",
    "    out = pd.concat(rows, ignore_index=True).dropna(subset=[\"visitors\"])\n",
    "    out = out.drop_duplicates(subset=[\"city\"])  # garde la 1ère occurrence si doublon\n",
    "    out = out.rename(columns={\"visitors\":\"international_visitors_2018\"})\n",
    "    return out"
   ]
  },
  {
   "cell_type": "code",
   "execution_count": 47,
   "id": "859a2476-3fd2-40e1-96ef-1ef9e536b4be",
   "metadata": {},
   "outputs": [
    {
     "name": "stdout",
     "output_type": "stream",
     "text": [
      "  city  international_visitors_2018                                                                                                                                                                                                                                                                                                                                                                                                                                                                                                                                                                                                                                                                                                                                                                                                                                                                                                                                                                                                                                                                    description\n",
      "Berlin                    5959400.0                                                                                                                                                                                                                                                                                                                Berlin is the capital and largest city of Germany , by both area and population . With 3.7 million inhabitants, it has the highest population within its city limits of any city in the European Union . The city is also one of the states of Germany , being the third-smallest state in the country by area. Berlin is surrounded by the state of Brandenburg , and Brandenburg's capital Potsdam is nearby. The urban area of Berlin has a population of over 4.6 million, making it the most populous in Germany. The Berlin-Brandenburg capital region has around 6.2 million inhabitants and is Germany's second-largest metropolitan region after the Rhine-Ruhr region, as well as the fifth-biggest metropolitan region by GDP in the European Union.\n",
      "Madrid                    5440100.0                                                                                                                                                                                                                                                                                                                                                                                                                Madrid is the capital and most populous municipality of Spain . Madrid has almost 3.3 million inhabitants and a metropolitan area population of approximately 6.8 million. It is the second-largest city in the European Union , second only to Berlin, Germany , and its metropolitan area is the second-largest in the EU. The municipality covers 604.3 km 2 geographical area. Madrid lies on the River Manzanares in the central part of the Iberian Peninsula at about 650 m above mean sea level. The capital city of both Spain and the surrounding autonomous community of Madrid , it is the political, economic, and cultural centre of the country.\n",
      " Paris                   17560200.0                                                                                                                                                                                                                                                                                                                                                                                                                                                                                                                                                                                                                              Paris is the capital and largest city of France , with an estimated population of 2,048,472 in January 2025 in an area of more than 105 km 2 . It is located in the centre of the le-de-France region. Paris is the fourth-most populous city in the European Union . Nicknamed the City of Light, Paris has been one of the world's major centres of finance , diplomacy , commerce , culture , fashion , and gastronomy since the 17th century.\n",
      "  Rome                   10065400.0 Rome is the capital city and most populated comune of Italy . It is also the administrative centre of the Lazio region and of the Metropolitan City of Rome . A special comune named Roma Capitale with 2,746,984 residents in 1,287.36 km 2 , Rome is the third most populous city in the European Union by population within city limits. The Metropolitan City of Rome Capital , with a population of 4,223,885 residents, is the most populous metropolitan city in Italy. Its metropolitan area is the third-most populous within Italy. Rome is located in the central-western portion of the Italian Peninsula , within Lazio , along the shores of the Tiber Valley . Vatican City is an independent country inside the city boundaries of Rome, the only existing example of a country within a city. Rome is often referred to as the City of Seven Hills due to its geography, and also as the 'Eternal City'. Rome is generally considered to be one of the cradles of Western civilization and Western Christian culture , and the centre of the Catholic Church.\n"
     ]
    },
    {
     "ename": "NameError",
     "evalue": "name 'csv' is not defined",
     "output_type": "error",
     "traceback": [
      "\u001b[0;31m---------------------------------------------------------------------------\u001b[0m",
      "\u001b[0;31mNameError\u001b[0m                                 Traceback (most recent call last)",
      "Cell \u001b[0;32mIn[47], line 40\u001b[0m\n\u001b[1;32m     34\u001b[0m \u001b[38;5;66;03m# Export propre\u001b[39;00m\n\u001b[1;32m     35\u001b[0m Path(OUTPUT_CSV)\u001b[38;5;241m.\u001b[39mparent\u001b[38;5;241m.\u001b[39mmkdir(parents\u001b[38;5;241m=\u001b[39m\u001b[38;5;28;01mTrue\u001b[39;00m, exist_ok\u001b[38;5;241m=\u001b[39m\u001b[38;5;28;01mTrue\u001b[39;00m)\n\u001b[1;32m     36\u001b[0m df\u001b[38;5;241m.\u001b[39mto_csv(\n\u001b[1;32m     37\u001b[0m     OUTPUT_CSV,\n\u001b[1;32m     38\u001b[0m     index\u001b[38;5;241m=\u001b[39m\u001b[38;5;28;01mFalse\u001b[39;00m,\n\u001b[1;32m     39\u001b[0m     encoding\u001b[38;5;241m=\u001b[39m\u001b[38;5;124m\"\u001b[39m\u001b[38;5;124mutf-8\u001b[39m\u001b[38;5;124m\"\u001b[39m,\n\u001b[0;32m---> 40\u001b[0m     quoting\u001b[38;5;241m=\u001b[39mcsv\u001b[38;5;241m.\u001b[39mQUOTE_ALL  \u001b[38;5;66;03m# tous les champs entre guillemets\u001b[39;00m\n\u001b[1;32m     41\u001b[0m )\n\u001b[1;32m     42\u001b[0m \u001b[38;5;28mprint\u001b[39m(\u001b[38;5;124m\"\u001b[39m\u001b[38;5;130;01m\\n\u001b[39;00m\u001b[38;5;124m✅ Exporté :\u001b[39m\u001b[38;5;124m\"\u001b[39m, OUTPUT_CSV)\n",
      "\u001b[0;31mNameError\u001b[0m: name 'csv' is not defined"
     ]
    }
   ],
   "source": [
    "# Fonction de nettoyage\n",
    "def clean_text(text):\n",
    "    if pd.isna(text):\n",
    "        return \"\"\n",
    "    text = str(text)\n",
    "    text = re.sub(r\"\\(.*?\\)\", \"\", text)  # supprimer tout ce qu'il y a entre ( )\n",
    "    text = text.replace('\"', \"'\")  # remplacer guillemets doubles\n",
    "    text = text.replace(\"\\n\", \" \").replace(\"\\r\", \" \")  # enlever retours à la ligne\n",
    "    text = re.sub(r\"[^\\x20-\\x7E]+\", \" \", text)  # supprimer caractères spéciaux non-ASCII\n",
    "    text = re.sub(r\"\\s+\", \" \", text)  # remplacer multiples espaces par un seul\n",
    "    return text.strip()\n",
    "\n",
    "# Main\n",
    "if __name__ == \"__main__\":\n",
    "    df = scrape_2018(URL, TARGET_CITIES).sort_values(\"city\").reset_index(drop=True)\n",
    "    df[\"description\"] = [city_desc(c) for c in df[\"city\"]]\n",
    "    df[\"extract_date\"] = pd.Timestamp.today().normalize()\n",
    "    df[\"source_url\"] = URL\n",
    "\n",
    "    # Nettoyage des descriptions\n",
    "    df[\"description\"] = df[\"description\"].apply(clean_text)\n",
    "\n",
    "    # Colonnes finales\n",
    "    cols = [\n",
    "        \"city\", \"country\", \"international_visitors_2018\",\n",
    "        \"description\", \"extract_date\", \"source_url\"\n",
    "    ]\n",
    "    df = df[[c for c in cols if c in df.columns]]\n",
    "\n",
    "    # Aperçu complet des descriptions (nettoyées)\n",
    "    with pd.option_context(\"display.max_rows\", None, \"display.max_colwidth\", None, \"display.width\", 2000):\n",
    "        print(df[[\"city\",\"international_visitors_2018\",\"description\"]].to_string(index=False))\n",
    "\n",
    "    # Export propre\n",
    "    Path(OUTPUT_CSV).parent.mkdir(parents=True, exist_ok=True)\n",
    "    df.to_csv(\n",
    "        OUTPUT_CSV,\n",
    "        index=False,\n",
    "        encoding=\"utf-8\",\n",
    "        quoting=csv.QUOTE_ALL  # tous les champs entre guillemets\n",
    "    )\n",
    "    print(\"\\n✅ Exporté :\", OUTPUT_CSV)"
   ]
  },
  {
   "cell_type": "code",
   "execution_count": 48,
   "id": "c89e7cce-38c5-4d04-8471-2bd51a647677",
   "metadata": {},
   "outputs": [
    {
     "data": {
      "text/plain": [
       "city                                   object\n",
       "country                                object\n",
       "international_visitors_2018           float64\n",
       "description                            object\n",
       "extract_date                   datetime64[ns]\n",
       "source_url                             object\n",
       "dtype: object"
      ]
     },
     "execution_count": 48,
     "metadata": {},
     "output_type": "execute_result"
    }
   ],
   "source": [
    "df.dtypes"
   ]
  },
  {
   "cell_type": "code",
   "execution_count": null,
   "id": "5eeb6af2-0252-46f2-8f32-1244c285fbcb",
   "metadata": {},
   "outputs": [],
   "source": []
  }
 ],
 "metadata": {
  "kernelspec": {
   "display_name": "Python 3 (ipykernel)",
   "language": "python",
   "name": "python3"
  },
  "language_info": {
   "codemirror_mode": {
    "name": "ipython",
    "version": 3
   },
   "file_extension": ".py",
   "mimetype": "text/x-python",
   "name": "python",
   "nbconvert_exporter": "python",
   "pygments_lexer": "ipython3",
   "version": "3.11.5"
  }
 },
 "nbformat": 4,
 "nbformat_minor": 5
}
